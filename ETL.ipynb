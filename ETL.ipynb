{
 "cells": [
  {
   "cell_type": "markdown",
   "id": "5f46a639",
   "metadata": {},
   "source": [
    "## Web Scraping Amazon\n",
    "### Preparando ambiente"
   ]
  },
  {
   "cell_type": "code",
   "execution_count": 35,
   "id": "48213f16",
   "metadata": {},
   "outputs": [],
   "source": [
    "import urllib.request as urllib_request\n",
    "import pandas as pd\n",
    "from bs4 import BeautifulSoup"
   ]
  },
  {
   "cell_type": "markdown",
   "id": "7e5bb550",
   "metadata": {},
   "source": [
    "### Extract"
   ]
  },
  {
   "cell_type": "code",
   "execution_count": 36,
   "id": "05eb4439",
   "metadata": {},
   "outputs": [],
   "source": [
    "items_list = []\n",
    "for i in range(1, 10):\n",
    "    url = f'https://www.amazon.com.br/s?i=electronics&rh=n%3A16243822011%2Cp_72%3A17833786011&page={i}&content-id=amzn1.sym.578aa6a5-6bfa-4747-975c-cee0f889732e&pd_rd_r=7538e36b-adc4-4bb5-b22c-4244b566357f&pd_rd_w=QzjCE&pd_rd_wg=CzeX1&pf_rd_p=578aa6a5-6bfa-4747-975c-cee0f889732e&pf_rd_r=M5ST1MD384C6WAYW9P0H&qid=1692993545&ref=sr_pg_{i}'\n",
    "    response = urllib_request.urlopen(url)\n",
    "    html = response.read()\n",
    "\n",
    "    soup = BeautifulSoup(html, 'html.parser')\n",
    "    items_list = items_list + soup.find_all('div', {'class': 'a-section a-spacing-base'})"
   ]
  },
  {
   "cell_type": "markdown",
   "id": "d383858d",
   "metadata": {},
   "source": [
    "### Transform"
   ]
  },
  {
   "cell_type": "code",
   "execution_count": 37,
   "id": "b4941b79",
   "metadata": {},
   "outputs": [
    {
     "data": {
      "text/plain": [
       "\"Smart TV LED 32'' HD Samsung LH32BETBLGGXZD\""
      ]
     },
     "execution_count": 37,
     "metadata": {},
     "output_type": "execute_result"
    }
   ],
   "source": [
    "names = [item.find('div', {'class': 'a-section a-spacing-none a-spacing-top-small s-title-instructions-style'}).get_text().strip() for item in items_list]\n",
    "names[0]"
   ]
  },
  {
   "cell_type": "code",
   "execution_count": 38,
   "id": "281ea4c5",
   "metadata": {},
   "outputs": [
    {
     "data": {
      "text/plain": [
       "'4,7'"
      ]
     },
     "execution_count": 38,
     "metadata": {},
     "output_type": "execute_result"
    }
   ],
   "source": [
    "rates = [item.find('div', {'class': 'a-section a-spacing-none a-spacing-top-micro'}).get_text().split(' ')[0] for item in items_list]\n",
    "rates[0]"
   ]
  },
  {
   "cell_type": "code",
   "execution_count": 39,
   "id": "28d0998a",
   "metadata": {},
   "outputs": [
    {
     "data": {
      "text/plain": [
       "'3.140'"
      ]
     },
     "execution_count": 39,
     "metadata": {},
     "output_type": "execute_result"
    }
   ],
   "source": [
    "reviews_n = [item.find('div', {'class': 'a-section a-spacing-none a-spacing-top-micro'}).get_text().strip().split(' ')[-1] for item in items_list]\n",
    "reviews_n[0]"
   ]
  },
  {
   "cell_type": "code",
   "execution_count": 40,
   "id": "3430a13c",
   "metadata": {},
   "outputs": [
    {
     "data": {
      "text/plain": [
       "'1.038,06'"
      ]
     },
     "execution_count": 40,
     "metadata": {},
     "output_type": "execute_result"
    }
   ],
   "source": [
    "prices = []\n",
    "for item in items_list:\n",
    "    cur_item = item.find(\n",
    "                    'div', \n",
    "                    {'class': 'a-section a-spacing-none a-spacing-top-small s-price-instructions-style'}\n",
    "                )\n",
    "    if cur_item is not None:\n",
    "        cur_item_price = cur_item.find('span')\n",
    "        if cur_item_price is not None:\n",
    "            price = cur_item_price.get_text()\n",
    "            price = ''.join(price.split('\\xa0'))\n",
    "            price = price.split('R$')\n",
    "            if len(price) > 1:\n",
    "                prices.append(price[1])\n",
    "            else:\n",
    "                prices.append(None)\n",
    "        else:\n",
    "            prices.append(None)\n",
    "    else:\n",
    "        prices.append(None)\n",
    "prices[0]"
   ]
  },
  {
   "cell_type": "code",
   "execution_count": 41,
   "id": "f7eaa6e1",
   "metadata": {},
   "outputs": [
    {
     "data": {
      "text/plain": [
       "(\"Smart TV LED 32'' HD Samsung LH32BETBLGGXZD\", '4,7', '1.038,06')"
      ]
     },
     "execution_count": 41,
     "metadata": {},
     "output_type": "execute_result"
    }
   ],
   "source": [
    "list(zip(names, rates, prices))[0]"
   ]
  },
  {
   "cell_type": "code",
   "execution_count": 42,
   "id": "fc506894",
   "metadata": {},
   "outputs": [
    {
     "data": {
      "text/html": [
       "<div>\n",
       "<style scoped>\n",
       "    .dataframe tbody tr th:only-of-type {\n",
       "        vertical-align: middle;\n",
       "    }\n",
       "\n",
       "    .dataframe tbody tr th {\n",
       "        vertical-align: top;\n",
       "    }\n",
       "\n",
       "    .dataframe thead th {\n",
       "        text-align: right;\n",
       "    }\n",
       "</style>\n",
       "<table border=\"1\" class=\"dataframe\">\n",
       "  <thead>\n",
       "    <tr style=\"text-align: right;\">\n",
       "      <th></th>\n",
       "      <th>product_desc</th>\n",
       "      <th>product_rate</th>\n",
       "      <th>product_price</th>\n",
       "    </tr>\n",
       "  </thead>\n",
       "  <tbody>\n",
       "    <tr>\n",
       "      <th>0</th>\n",
       "      <td>Smart TV LED 32'' HD Samsung LH32BETBLGGXZD</td>\n",
       "      <td>4,7</td>\n",
       "      <td>1.038,06</td>\n",
       "    </tr>\n",
       "    <tr>\n",
       "      <th>1</th>\n",
       "      <td>Samsung 60BU8000 - Smart TV LED 60' 4K UHD, Wi...</td>\n",
       "      <td>4,7</td>\n",
       "      <td>None</td>\n",
       "    </tr>\n",
       "    <tr>\n",
       "      <th>2</th>\n",
       "      <td>Smart TV Crystal 43\" 4K UHD Samsung CU7700 - A...</td>\n",
       "      <td>4,8</td>\n",
       "      <td>1.996,70</td>\n",
       "    </tr>\n",
       "    <tr>\n",
       "      <th>3</th>\n",
       "      <td>Smart TV LED 55\" 4K UHD LG 55UQ801COSB.BWZ - I...</td>\n",
       "      <td>4,8</td>\n",
       "      <td>2.449,00</td>\n",
       "    </tr>\n",
       "    <tr>\n",
       "      <th>4</th>\n",
       "      <td>PHILIPS Smart TV 50\" 4K Android Ambilight 50PU...</td>\n",
       "      <td>4,7</td>\n",
       "      <td>2.279,00</td>\n",
       "    </tr>\n",
       "    <tr>\n",
       "      <th>5</th>\n",
       "      <td>Smart TV Crystal 50\" 4K UHD Samsung CU7700 - A...</td>\n",
       "      <td>4,4</td>\n",
       "      <td>2.385,25</td>\n",
       "    </tr>\n",
       "    <tr>\n",
       "      <th>6</th>\n",
       "      <td>Smart TV 32” Philco PTV32G7ER2CPBLH Dolby Audi...</td>\n",
       "      <td>4,5</td>\n",
       "      <td>990,79</td>\n",
       "    </tr>\n",
       "    <tr>\n",
       "      <th>7</th>\n",
       "      <td>Smart TV Crystal 55\" 4K UHD Samsung CU7700 - A...</td>\n",
       "      <td>4,7</td>\n",
       "      <td>2.574,99</td>\n",
       "    </tr>\n",
       "    <tr>\n",
       "      <th>8</th>\n",
       "      <td>2022 Smart TV LG 32\" HD 32LQ620 WiFi Bluetooth...</td>\n",
       "      <td>4,7</td>\n",
       "      <td>1.118,99</td>\n",
       "    </tr>\n",
       "    <tr>\n",
       "      <th>9</th>\n",
       "      <td>Smart TV 55\" 4K LG UHD ThinQ AI 55UR8750PSA HD...</td>\n",
       "      <td>4,1</td>\n",
       "      <td>None</td>\n",
       "    </tr>\n",
       "    <tr>\n",
       "      <th>10</th>\n",
       "      <td>AOC 43S5135/78G - Smart TV LED 43\" Full HD, De...</td>\n",
       "      <td>4,7</td>\n",
       "      <td>None</td>\n",
       "    </tr>\n",
       "    <tr>\n",
       "      <th>11</th>\n",
       "      <td>Smart TV LED 24' Monitor LG 24TL520S, Wi-Fi, W...</td>\n",
       "      <td>4,8</td>\n",
       "      <td>829,90</td>\n",
       "    </tr>\n",
       "    <tr>\n",
       "      <th>12</th>\n",
       "      <td>Smart TV LED 32\" HD TCL 32S615 - Android TV, W...</td>\n",
       "      <td>4,5</td>\n",
       "      <td>1.049,00</td>\n",
       "    </tr>\n",
       "    <tr>\n",
       "      <th>13</th>\n",
       "      <td>Smart TV LED 50\" 4K UHD TCL 50P635 - Google TV...</td>\n",
       "      <td>4,7</td>\n",
       "      <td>1.999,90</td>\n",
       "    </tr>\n",
       "    <tr>\n",
       "      <th>14</th>\n",
       "      <td>Samsung Q90T - Smart TV QLED 55\", 4K, UHD, 120...</td>\n",
       "      <td>4,5</td>\n",
       "      <td>None</td>\n",
       "    </tr>\n",
       "  </tbody>\n",
       "</table>\n",
       "</div>"
      ],
      "text/plain": [
       "                                         product_desc product_rate  \\\n",
       "0         Smart TV LED 32'' HD Samsung LH32BETBLGGXZD          4,7   \n",
       "1   Samsung 60BU8000 - Smart TV LED 60' 4K UHD, Wi...          4,7   \n",
       "2   Smart TV Crystal 43\" 4K UHD Samsung CU7700 - A...          4,8   \n",
       "3   Smart TV LED 55\" 4K UHD LG 55UQ801COSB.BWZ - I...          4,8   \n",
       "4   PHILIPS Smart TV 50\" 4K Android Ambilight 50PU...          4,7   \n",
       "5   Smart TV Crystal 50\" 4K UHD Samsung CU7700 - A...          4,4   \n",
       "6   Smart TV 32” Philco PTV32G7ER2CPBLH Dolby Audi...          4,5   \n",
       "7   Smart TV Crystal 55\" 4K UHD Samsung CU7700 - A...          4,7   \n",
       "8   2022 Smart TV LG 32\" HD 32LQ620 WiFi Bluetooth...          4,7   \n",
       "9   Smart TV 55\" 4K LG UHD ThinQ AI 55UR8750PSA HD...          4,1   \n",
       "10  AOC 43S5135/78G - Smart TV LED 43\" Full HD, De...          4,7   \n",
       "11  Smart TV LED 24' Monitor LG 24TL520S, Wi-Fi, W...          4,8   \n",
       "12  Smart TV LED 32\" HD TCL 32S615 - Android TV, W...          4,5   \n",
       "13  Smart TV LED 50\" 4K UHD TCL 50P635 - Google TV...          4,7   \n",
       "14  Samsung Q90T - Smart TV QLED 55\", 4K, UHD, 120...          4,5   \n",
       "\n",
       "   product_price  \n",
       "0       1.038,06  \n",
       "1           None  \n",
       "2       1.996,70  \n",
       "3       2.449,00  \n",
       "4       2.279,00  \n",
       "5       2.385,25  \n",
       "6         990,79  \n",
       "7       2.574,99  \n",
       "8       1.118,99  \n",
       "9           None  \n",
       "10          None  \n",
       "11        829,90  \n",
       "12      1.049,00  \n",
       "13      1.999,90  \n",
       "14          None  "
      ]
     },
     "execution_count": 42,
     "metadata": {},
     "output_type": "execute_result"
    }
   ],
   "source": [
    "df = pd.DataFrame(list(zip(names, rates, prices)), columns=['product_desc', 'product_rate', 'product_price'])\n",
    "df.head(15)"
   ]
  },
  {
   "cell_type": "code",
   "execution_count": 43,
   "id": "e3852dd6",
   "metadata": {},
   "outputs": [
    {
     "name": "stderr",
     "output_type": "stream",
     "text": [
      "C:\\Users\\nickolas\\AppData\\Local\\Temp\\ipykernel_14744\\1883125621.py:1: FutureWarning: The default value of regex will change from True to False in a future version. In addition, single character regular expressions will *not* be treated as literal strings when regex=True.\n",
      "  df['product_price'] = df['product_price'].str.replace('.', '')\n"
     ]
    },
    {
     "data": {
      "text/html": [
       "<div>\n",
       "<style scoped>\n",
       "    .dataframe tbody tr th:only-of-type {\n",
       "        vertical-align: middle;\n",
       "    }\n",
       "\n",
       "    .dataframe tbody tr th {\n",
       "        vertical-align: top;\n",
       "    }\n",
       "\n",
       "    .dataframe thead th {\n",
       "        text-align: right;\n",
       "    }\n",
       "</style>\n",
       "<table border=\"1\" class=\"dataframe\">\n",
       "  <thead>\n",
       "    <tr style=\"text-align: right;\">\n",
       "      <th></th>\n",
       "      <th>product_desc</th>\n",
       "      <th>product_rate</th>\n",
       "      <th>product_price</th>\n",
       "    </tr>\n",
       "  </thead>\n",
       "  <tbody>\n",
       "    <tr>\n",
       "      <th>0</th>\n",
       "      <td>Smart TV LED 32'' HD Samsung LH32BETBLGGXZD</td>\n",
       "      <td>4,7</td>\n",
       "      <td>1038.06</td>\n",
       "    </tr>\n",
       "    <tr>\n",
       "      <th>1</th>\n",
       "      <td>Samsung 60BU8000 - Smart TV LED 60' 4K UHD, Wi...</td>\n",
       "      <td>4,7</td>\n",
       "      <td>NaN</td>\n",
       "    </tr>\n",
       "    <tr>\n",
       "      <th>2</th>\n",
       "      <td>Smart TV Crystal 43\" 4K UHD Samsung CU7700 - A...</td>\n",
       "      <td>4,8</td>\n",
       "      <td>1996.70</td>\n",
       "    </tr>\n",
       "    <tr>\n",
       "      <th>3</th>\n",
       "      <td>Smart TV LED 55\" 4K UHD LG 55UQ801COSB.BWZ - I...</td>\n",
       "      <td>4,8</td>\n",
       "      <td>2449.00</td>\n",
       "    </tr>\n",
       "    <tr>\n",
       "      <th>4</th>\n",
       "      <td>PHILIPS Smart TV 50\" 4K Android Ambilight 50PU...</td>\n",
       "      <td>4,7</td>\n",
       "      <td>2279.00</td>\n",
       "    </tr>\n",
       "  </tbody>\n",
       "</table>\n",
       "</div>"
      ],
      "text/plain": [
       "                                        product_desc product_rate  \\\n",
       "0        Smart TV LED 32'' HD Samsung LH32BETBLGGXZD          4,7   \n",
       "1  Samsung 60BU8000 - Smart TV LED 60' 4K UHD, Wi...          4,7   \n",
       "2  Smart TV Crystal 43\" 4K UHD Samsung CU7700 - A...          4,8   \n",
       "3  Smart TV LED 55\" 4K UHD LG 55UQ801COSB.BWZ - I...          4,8   \n",
       "4  PHILIPS Smart TV 50\" 4K Android Ambilight 50PU...          4,7   \n",
       "\n",
       "   product_price  \n",
       "0        1038.06  \n",
       "1            NaN  \n",
       "2        1996.70  \n",
       "3        2449.00  \n",
       "4        2279.00  "
      ]
     },
     "execution_count": 43,
     "metadata": {},
     "output_type": "execute_result"
    }
   ],
   "source": [
    "df['product_price'] = df['product_price'].str.replace('.', '')\n",
    "df['product_price'] = df['product_price'].str.replace(',', '.')\n",
    "df['product_price'] = pd.to_numeric(df['product_price'])\n",
    "df.head()"
   ]
  },
  {
   "cell_type": "code",
   "execution_count": 44,
   "id": "9d9a91f6",
   "metadata": {},
   "outputs": [
    {
     "data": {
      "text/html": [
       "<div>\n",
       "<style scoped>\n",
       "    .dataframe tbody tr th:only-of-type {\n",
       "        vertical-align: middle;\n",
       "    }\n",
       "\n",
       "    .dataframe tbody tr th {\n",
       "        vertical-align: top;\n",
       "    }\n",
       "\n",
       "    .dataframe thead th {\n",
       "        text-align: right;\n",
       "    }\n",
       "</style>\n",
       "<table border=\"1\" class=\"dataframe\">\n",
       "  <thead>\n",
       "    <tr style=\"text-align: right;\">\n",
       "      <th></th>\n",
       "      <th>product_desc</th>\n",
       "      <th>product_rate</th>\n",
       "      <th>product_price</th>\n",
       "    </tr>\n",
       "  </thead>\n",
       "  <tbody>\n",
       "    <tr>\n",
       "      <th>0</th>\n",
       "      <td>Smart TV LED 32'' HD Samsung LH32BETBLGGXZD</td>\n",
       "      <td>4.7</td>\n",
       "      <td>1038.06</td>\n",
       "    </tr>\n",
       "    <tr>\n",
       "      <th>1</th>\n",
       "      <td>Samsung 60BU8000 - Smart TV LED 60' 4K UHD, Wi...</td>\n",
       "      <td>4.7</td>\n",
       "      <td>NaN</td>\n",
       "    </tr>\n",
       "    <tr>\n",
       "      <th>2</th>\n",
       "      <td>Smart TV Crystal 43\" 4K UHD Samsung CU7700 - A...</td>\n",
       "      <td>4.8</td>\n",
       "      <td>1996.70</td>\n",
       "    </tr>\n",
       "    <tr>\n",
       "      <th>3</th>\n",
       "      <td>Smart TV LED 55\" 4K UHD LG 55UQ801COSB.BWZ - I...</td>\n",
       "      <td>4.8</td>\n",
       "      <td>2449.00</td>\n",
       "    </tr>\n",
       "    <tr>\n",
       "      <th>4</th>\n",
       "      <td>PHILIPS Smart TV 50\" 4K Android Ambilight 50PU...</td>\n",
       "      <td>4.7</td>\n",
       "      <td>2279.00</td>\n",
       "    </tr>\n",
       "  </tbody>\n",
       "</table>\n",
       "</div>"
      ],
      "text/plain": [
       "                                        product_desc  product_rate  \\\n",
       "0        Smart TV LED 32'' HD Samsung LH32BETBLGGXZD           4.7   \n",
       "1  Samsung 60BU8000 - Smart TV LED 60' 4K UHD, Wi...           4.7   \n",
       "2  Smart TV Crystal 43\" 4K UHD Samsung CU7700 - A...           4.8   \n",
       "3  Smart TV LED 55\" 4K UHD LG 55UQ801COSB.BWZ - I...           4.8   \n",
       "4  PHILIPS Smart TV 50\" 4K Android Ambilight 50PU...           4.7   \n",
       "\n",
       "   product_price  \n",
       "0        1038.06  \n",
       "1            NaN  \n",
       "2        1996.70  \n",
       "3        2449.00  \n",
       "4        2279.00  "
      ]
     },
     "execution_count": 44,
     "metadata": {},
     "output_type": "execute_result"
    }
   ],
   "source": [
    "df['product_rate'] = df['product_rate'].str.replace(',', '.')\n",
    "df['product_rate'] = pd.to_numeric(df['product_rate'])\n",
    "df.head()"
   ]
  },
  {
   "cell_type": "markdown",
   "id": "2518f7aa",
   "metadata": {},
   "source": [
    "### Load"
   ]
  },
  {
   "cell_type": "code",
   "execution_count": 46,
   "id": "30fe2b1b",
   "metadata": {},
   "outputs": [],
   "source": [
    "df.to_csv('dados_TVs.csv')"
   ]
  }
 ],
 "metadata": {
  "kernelspec": {
   "display_name": "Python 3 (ipykernel)",
   "language": "python",
   "name": "python3"
  },
  "language_info": {
   "codemirror_mode": {
    "name": "ipython",
    "version": 3
   },
   "file_extension": ".py",
   "mimetype": "text/x-python",
   "name": "python",
   "nbconvert_exporter": "python",
   "pygments_lexer": "ipython3",
   "version": "3.10.11"
  }
 },
 "nbformat": 4,
 "nbformat_minor": 5
}
